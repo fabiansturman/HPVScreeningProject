{
 "cells": [
  {
   "cell_type": "code",
   "execution_count": 2,
   "metadata": {},
   "outputs": [
    {
     "name": "stderr",
     "output_type": "stream",
     "text": [
      "Bottle v0.13.4 server starting up (using WSGIRefServer())...\n",
      "Listening on http://127.0.0.1:8083/\n",
      "Hit Ctrl-C to quit.\n",
      "\n",
      "127.0.0.1 - - [14/Sep/2025 21:48:29] \"GET / HTTP/1.1\" 302 0\n",
      "127.0.0.1 - - [14/Sep/2025 21:48:30] \"GET /api/studies HTTP/1.1\" 200 173\n",
      "127.0.0.1 - - [14/Sep/2025 21:48:34] \"GET /api/studies/1?after=3062 HTTP/1.1\" 200 5424\n",
      "127.0.0.1 - - [14/Sep/2025 21:48:47] \"GET /api/studies/1?after=3062 HTTP/1.1\" 200 5424\n",
      "127.0.0.1 - - [14/Sep/2025 21:49:01] \"GET /api/studies/1?after=3062 HTTP/1.1\" 200 5424\n",
      "127.0.0.1 - - [14/Sep/2025 21:49:04] \"GET /api/studies/1/param_importances?evaluator=ped_anova HTTP/1.1\" 200 921\n",
      "127.0.0.1 - - [14/Sep/2025 21:49:04] \"GET /api/studies/1?after=0 HTTP/1.1\" 200 7618412\n",
      "127.0.0.1 - - [14/Sep/2025 21:49:04] \"GET /api/meta HTTP/1.1\" 200 64\n",
      "127.0.0.1 - - [14/Sep/2025 21:49:05] \"GET /api/studies/1/param_importances?evaluator=ped_anova HTTP/1.1\" 200 921\n",
      "127.0.0.1 - - [14/Sep/2025 21:49:14] \"GET /api/studies/1?after=3062 HTTP/1.1\" 200 5424\n",
      "127.0.0.1 - - [14/Sep/2025 21:49:18] \"GET /api/studies/1?after=144 HTTP/1.1\" 200 7229852\n",
      "127.0.0.1 - - [14/Sep/2025 21:49:26] \"GET /api/studies/1?after=3062 HTTP/1.1\" 200 5424\n",
      "127.0.0.1 - - [14/Sep/2025 21:49:31] \"GET /api/studies/1?after=144 HTTP/1.1\" 200 7229852\n",
      "127.0.0.1 - - [14/Sep/2025 21:49:39] \"GET /api/studies/1?after=3062 HTTP/1.1\" 200 5424\n",
      "127.0.0.1 - - [14/Sep/2025 21:49:43] \"GET /api/studies/1?after=144 HTTP/1.1\" 200 7229852\n",
      "127.0.0.1 - - [14/Sep/2025 21:49:51] \"GET /api/studies/1?after=3062 HTTP/1.1\" 200 5424\n",
      "127.0.0.1 - - [14/Sep/2025 21:49:55] \"GET /api/studies/1?after=144 HTTP/1.1\" 200 7229852\n",
      "127.0.0.1 - - [14/Sep/2025 21:50:03] \"GET /api/studies/1?after=3062 HTTP/1.1\" 200 5424\n",
      "127.0.0.1 - - [14/Sep/2025 21:50:08] \"GET /api/studies/1?after=144 HTTP/1.1\" 200 7229852\n",
      "127.0.0.1 - - [14/Sep/2025 21:50:17] \"GET /api/studies/1?after=3062 HTTP/1.1\" 200 5424\n",
      "127.0.0.1 - - [14/Sep/2025 21:50:21] \"GET /api/studies/1?after=144 HTTP/1.1\" 200 7229852\n",
      "127.0.0.1 - - [14/Sep/2025 21:50:29] \"GET /api/studies/1?after=3062 HTTP/1.1\" 200 5424\n",
      "127.0.0.1 - - [14/Sep/2025 21:50:33] \"GET /api/studies/1?after=144 HTTP/1.1\" 200 7229852\n",
      "127.0.0.1 - - [14/Sep/2025 21:50:42] \"GET /api/studies/1?after=3062 HTTP/1.1\" 200 5424\n",
      "127.0.0.1 - - [14/Sep/2025 21:50:46] \"GET /api/studies/1?after=144 HTTP/1.1\" 200 7229852\n",
      "127.0.0.1 - - [14/Sep/2025 21:50:53] \"GET /api/studies/1?after=3062 HTTP/1.1\" 200 5424\n",
      "127.0.0.1 - - [14/Sep/2025 21:50:59] \"GET /api/studies/1?after=144 HTTP/1.1\" 200 7229852\n",
      "127.0.0.1 - - [14/Sep/2025 21:51:05] \"GET /api/studies/1?after=3062 HTTP/1.1\" 200 5424\n",
      "127.0.0.1 - - [14/Sep/2025 21:51:10] \"GET /api/studies/1?after=144 HTTP/1.1\" 200 7229852\n",
      "127.0.0.1 - - [14/Sep/2025 21:51:18] \"GET /api/studies/1?after=3062 HTTP/1.1\" 200 5424\n",
      "127.0.0.1 - - [14/Sep/2025 21:51:23] \"GET /api/studies/1?after=144 HTTP/1.1\" 200 7229852\n",
      "127.0.0.1 - - [14/Sep/2025 21:51:32] \"GET /api/studies/1?after=3062 HTTP/1.1\" 200 5424\n",
      "127.0.0.1 - - [14/Sep/2025 21:51:34] \"GET /api/studies/1?after=144 HTTP/1.1\" 200 7229852\n",
      "127.0.0.1 - - [14/Sep/2025 21:51:46] \"GET /api/studies/1?after=3062 HTTP/1.1\" 200 5424\n",
      "127.0.0.1 - - [14/Sep/2025 21:51:48] \"GET /api/studies/1?after=144 HTTP/1.1\" 200 7229852\n",
      "127.0.0.1 - - [14/Sep/2025 21:52:07] \"GET /api/studies/1?after=144 HTTP/1.1\" 200 7229852\n",
      "127.0.0.1 - - [14/Sep/2025 21:52:22] \"GET /api/studies/1?after=144 HTTP/1.1\" 200 7229852\n",
      "127.0.0.1 - - [14/Sep/2025 21:52:36] \"GET /api/studies/1?after=144 HTTP/1.1\" 200 7229852\n",
      "127.0.0.1 - - [14/Sep/2025 21:52:50] \"GET /api/studies/1?after=144 HTTP/1.1\" 200 7229852\n",
      "127.0.0.1 - - [14/Sep/2025 21:53:04] \"GET /api/studies/1?after=144 HTTP/1.1\" 200 7229852\n",
      "127.0.0.1 - - [14/Sep/2025 21:53:19] \"GET /api/studies/1?after=144 HTTP/1.1\" 200 7229852\n",
      "127.0.0.1 - - [14/Sep/2025 21:53:33] \"GET /api/studies/1?after=144 HTTP/1.1\" 200 7229852\n",
      "127.0.0.1 - - [14/Sep/2025 21:53:48] \"GET /api/studies/1?after=144 HTTP/1.1\" 200 7229852\n",
      "127.0.0.1 - - [14/Sep/2025 21:54:02] \"GET /api/studies/1?after=144 HTTP/1.1\" 200 7229852\n",
      "127.0.0.1 - - [14/Sep/2025 21:54:16] \"GET /api/studies/1?after=144 HTTP/1.1\" 200 7229852\n",
      "127.0.0.1 - - [14/Sep/2025 21:54:30] \"GET /api/studies/1?after=144 HTTP/1.1\" 200 7229852\n"
     ]
    }
   ],
   "source": [
    "from optuna_dashboard import run_server\n",
    "import optuna\n",
    "\n",
    "name = \"CalibrationRawResults\\\\d2Cal_14Sep25_XPS_E0_1\"\n",
    "\n",
    "\n",
    "run_server(f'sqlite:///{name}.db', host=\"127.0.0.1\", port = 8083)"
   ]
  }
 ],
 "metadata": {
  "kernelspec": {
   "display_name": "FreshHPVSim2Env",
   "language": "python",
   "name": "python3"
  },
  "language_info": {
   "codemirror_mode": {
    "name": "ipython",
    "version": 3
   },
   "file_extension": ".py",
   "mimetype": "text/x-python",
   "name": "python",
   "nbconvert_exporter": "python",
   "pygments_lexer": "ipython3",
   "version": "3.13.5"
  }
 },
 "nbformat": 4,
 "nbformat_minor": 2
}
