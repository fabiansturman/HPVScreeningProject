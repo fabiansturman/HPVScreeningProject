{
 "cells": [
  {
   "cell_type": "code",
   "execution_count": 3,
   "metadata": {},
   "outputs": [
    {
     "name": "stderr",
     "output_type": "stream",
     "text": [
      "Bottle v0.12.25 server starting up (using WSGIRefServer())...\n",
      "Listening on http://127.0.0.1:8083/\n",
      "Hit Ctrl-C to quit.\n",
      "\n",
      "127.0.0.1 - - [09/Sep/2025 20:40:58] \"GET / HTTP/1.1\" 302 0\n",
      "127.0.0.1 - - [09/Sep/2025 20:40:59] \"GET /api/studies HTTP/1.1\" 200 165\n",
      "127.0.0.1 - - [09/Sep/2025 20:47:17] \"GET /api/studies/1/param_importances HTTP/1.1\" 200 720\n",
      "127.0.0.1 - - [09/Sep/2025 20:47:18] \"GET /api/studies/1?after=0 HTTP/1.1\" 200 8715932\n",
      "127.0.0.1 - - [09/Sep/2025 20:47:18] \"GET /api/meta HTTP/1.1\" 200 63\n",
      "127.0.0.1 - - [09/Sep/2025 20:47:18] \"GET /api/studies/1?after=0 HTTP/1.1\" 200 8715932\n",
      "127.0.0.1 - - [09/Sep/2025 20:47:18] \"GET /api/studies/1?after=0 HTTP/1.1\" 200 8715932\n",
      "127.0.0.1 - - [09/Sep/2025 20:47:19] \"GET /api/studies/1?after=0 HTTP/1.1\" 200 8715932\n",
      "127.0.0.1 - - [09/Sep/2025 20:47:19] \"GET /api/studies/1?after=0 HTTP/1.1\" 200 8715932\n",
      "127.0.0.1 - - [09/Sep/2025 20:47:20] \"GET /api/studies/1?after=0 HTTP/1.1\" 200 8715932\n",
      "127.0.0.1 - - [09/Sep/2025 20:47:20] \"GET /api/studies/1?after=0 HTTP/1.1\" 200 8715932\n",
      "127.0.0.1 - - [09/Sep/2025 20:47:20] \"GET /api/studies/1?after=0 HTTP/1.1\" 200 8715932\n",
      "127.0.0.1 - - [09/Sep/2025 20:47:21] \"GET /api/studies/1?after=0 HTTP/1.1\" 200 8715932\n",
      "127.0.0.1 - - [09/Sep/2025 20:47:21] \"GET /api/studies/1?after=0 HTTP/1.1\" 200 8715932\n",
      "127.0.0.1 - - [09/Sep/2025 20:47:21] \"GET /api/studies/1?after=0 HTTP/1.1\" 200 8715932\n",
      "127.0.0.1 - - [09/Sep/2025 20:47:24] \"GET /api/studies/1?after=0 HTTP/1.1\" 200 8715932\n",
      "127.0.0.1 - - [09/Sep/2025 20:47:24] \"GET /api/studies/1?after=0 HTTP/1.1\" 200 8715932\n",
      "127.0.0.1 - - [09/Sep/2025 20:47:24] \"GET /api/studies/1?after=0 HTTP/1.1\" 200 8715932\n",
      "127.0.0.1 - - [09/Sep/2025 20:47:24] \"GET /api/studies/1?after=0 HTTP/1.1\" 200 8715932\n",
      "127.0.0.1 - - [09/Sep/2025 20:47:25] \"GET /api/studies/1?after=0 HTTP/1.1\" 200 8715932\n",
      "127.0.0.1 - - [09/Sep/2025 20:47:25] \"GET /api/studies/1?after=0 HTTP/1.1\" 200 8715932\n",
      "127.0.0.1 - - [09/Sep/2025 20:47:31] \"GET /api/studies/1?after=0 HTTP/1.1\" 200 8715932\n",
      "127.0.0.1 - - [09/Sep/2025 20:47:31] \"GET /api/studies/1?after=0 HTTP/1.1\" 200 8715932\n",
      "127.0.0.1 - - [09/Sep/2025 20:47:31] \"GET /api/studies/1?after=0 HTTP/1.1\" 200 8715932\n",
      "127.0.0.1 - - [09/Sep/2025 20:47:31] \"GET /api/studies/1?after=0 HTTP/1.1\" 200 8715932\n",
      "127.0.0.1 - - [09/Sep/2025 20:47:32] \"GET /api/studies/1?after=0 HTTP/1.1\" 200 8715932\n",
      "127.0.0.1 - - [09/Sep/2025 20:47:32] \"GET /api/studies/1?after=0 HTTP/1.1\" 200 8715932\n",
      "127.0.0.1 - - [09/Sep/2025 20:47:35] \"GET /api/studies/1?after=0 HTTP/1.1\" 200 8715932\n",
      "127.0.0.1 - - [09/Sep/2025 20:47:35] \"GET /api/studies/1?after=0 HTTP/1.1\" 200 8715932\n",
      "127.0.0.1 - - [09/Sep/2025 20:47:35] \"GET /api/studies/1?after=0 HTTP/1.1\" 200 8715932\n",
      "127.0.0.1 - - [09/Sep/2025 20:47:36] \"GET /api/studies/1?after=0 HTTP/1.1\" 200 8715932\n",
      "127.0.0.1 - - [09/Sep/2025 20:47:36] \"GET /api/studies/1?after=0 HTTP/1.1\" 200 8715932\n",
      "127.0.0.1 - - [09/Sep/2025 20:47:36] \"GET /api/studies/1?after=0 HTTP/1.1\" 200 8715932\n",
      "127.0.0.1 - - [09/Sep/2025 20:47:40] \"GET /api/studies/1?after=0 HTTP/1.1\" 200 8715932\n",
      "127.0.0.1 - - [09/Sep/2025 20:47:42] \"GET /api/studies/1?after=0 HTTP/1.1\" 200 8715932\n",
      "127.0.0.1 - - [09/Sep/2025 20:47:42] \"GET /api/studies/1?after=0 HTTP/1.1\" 200 8715932\n",
      "127.0.0.1 - - [09/Sep/2025 20:47:43] \"GET /api/studies/1?after=0 HTTP/1.1\" 200 8715932\n",
      "127.0.0.1 - - [09/Sep/2025 20:47:43] \"GET /api/studies/1?after=0 HTTP/1.1\" 200 8715932\n",
      "127.0.0.1 - - [09/Sep/2025 20:47:43] \"GET /api/studies/1?after=0 HTTP/1.1\" 200 8715932\n",
      "127.0.0.1 - - [09/Sep/2025 20:47:46] \"GET /api/studies/1?after=0 HTTP/1.1\" 200 8715932\n",
      "127.0.0.1 - - [09/Sep/2025 20:47:46] \"GET /api/studies/1?after=0 HTTP/1.1\" 200 8715932\n",
      "127.0.0.1 - - [09/Sep/2025 20:47:46] \"GET /api/studies/1/param_importances HTTP/1.1\" 200 720\n",
      "127.0.0.1 - - [09/Sep/2025 20:48:08] \"GET /api/studies/1?after=114 HTTP/1.1\" 200 8468184\n",
      "127.0.0.1 - - [09/Sep/2025 20:48:20] \"GET /api/studies/1?after=114 HTTP/1.1\" 200 8468184\n",
      "127.0.0.1 - - [09/Sep/2025 20:48:34] \"GET /api/studies/1?after=114 HTTP/1.1\" 200 8468184\n",
      "127.0.0.1 - - [09/Sep/2025 20:48:46] \"GET /api/studies/1?after=114 HTTP/1.1\" 200 8468184\n",
      "127.0.0.1 - - [09/Sep/2025 20:48:59] \"GET /api/studies/1?after=114 HTTP/1.1\" 200 8468184\n",
      "127.0.0.1 - - [09/Sep/2025 20:49:11] \"GET /api/studies/1?after=114 HTTP/1.1\" 200 8468184\n",
      "127.0.0.1 - - [09/Sep/2025 20:49:32] \"GET /api/studies/1?after=114 HTTP/1.1\" 200 8468184\n",
      "127.0.0.1 - - [09/Sep/2025 20:49:43] \"GET /api/studies/1?after=114 HTTP/1.1\" 200 8468184\n",
      "127.0.0.1 - - [09/Sep/2025 20:49:55] \"GET /api/studies/1?after=114 HTTP/1.1\" 200 8468184\n",
      "127.0.0.1 - - [09/Sep/2025 20:50:06] \"GET /api/studies/1?after=114 HTTP/1.1\" 200 8468184\n"
     ]
    }
   ],
   "source": [
    "from optuna_dashboard import run_server\n",
    "import optuna\n",
    "\n",
    "name = \"C:\\\\Users\\\\fabia\\\\Documents\\\\Uni\\\\DPhil\\\\SophieHPV\\\\HPVsim_FABIAN\\\\CalibrationRawResults\\\\d2Cal_8Sep25_5\"\n",
    "\n",
    "\n",
    "run_server(f'sqlite:///{name}.db', host=\"127.0.0.1\", port = 8083)"
   ]
  }
 ],
 "metadata": {
  "kernelspec": {
   "display_name": "Python 3",
   "language": "python",
   "name": "python3"
  },
  "language_info": {
   "codemirror_mode": {
    "name": "ipython",
    "version": 3
   },
   "file_extension": ".py",
   "mimetype": "text/x-python",
   "name": "python",
   "nbconvert_exporter": "python",
   "pygments_lexer": "ipython3",
   "version": "3.12.1"
  }
 },
 "nbformat": 4,
 "nbformat_minor": 2
}
