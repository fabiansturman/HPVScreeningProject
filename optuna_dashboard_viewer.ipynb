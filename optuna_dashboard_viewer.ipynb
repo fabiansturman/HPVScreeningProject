{
 "cells": [
  {
   "cell_type": "code",
   "execution_count": 2,
   "metadata": {},
   "outputs": [
    {
     "name": "stderr",
     "output_type": "stream",
     "text": [
      "Bottle v0.13.4 server starting up (using WSGIRefServer())...\n",
      "Listening on http://127.0.0.1:8083/\n",
      "Hit Ctrl-C to quit.\n",
      "\n",
      "127.0.0.1 - - [17/Sep/2025 15:05:29] \"GET / HTTP/1.1\" 302 0\n",
      "127.0.0.1 - - [17/Sep/2025 15:05:29] \"GET /dashboard HTTP/1.1\" 304 0\n",
      "127.0.0.1 - - [17/Sep/2025 15:05:30] \"GET /static/bundle.js HTTP/1.1\" 304 0\n",
      "127.0.0.1 - - [17/Sep/2025 15:05:30] \"GET /api/studies HTTP/1.1\" 200 172\n",
      "127.0.0.1 - - [17/Sep/2025 15:05:31] \"GET /favicon.ico HTTP/1.1\" 304 0\n",
      "127.0.0.1 - - [17/Sep/2025 15:05:40] \"GET /api/studies/1/param_importances?evaluator=ped_anova HTTP/1.1\" 200 1019\n",
      "127.0.0.1 - - [17/Sep/2025 15:05:42] \"GET /api/studies/1?after=0 HTTP/1.1\" 200 14307971\n",
      "127.0.0.1 - - [17/Sep/2025 15:05:42] \"GET /api/meta HTTP/1.1\" 200 64\n",
      "127.0.0.1 - - [17/Sep/2025 15:05:43] \"GET /api/studies/1?after=0 HTTP/1.1\" 200 14307971\n",
      "127.0.0.1 - - [17/Sep/2025 15:05:43] \"GET /api/studies/1/param_importances?evaluator=ped_anova HTTP/1.1\" 200 1019\n",
      "127.0.0.1 - - [17/Sep/2025 15:06:00] \"GET /api/studies/1?after=4817 HTTP/1.1\" 200 28986\n",
      "127.0.0.1 - - [17/Sep/2025 15:06:17] \"GET /api/studies/1?after=4817 HTTP/1.1\" 200 28986\n",
      "127.0.0.1 - - [17/Sep/2025 15:06:32] \"GET /api/studies/1?after=4817 HTTP/1.1\" 200 28986\n",
      "127.0.0.1 - - [17/Sep/2025 15:06:45] \"GET /api/studies/1?after=4817 HTTP/1.1\" 200 28986\n",
      "127.0.0.1 - - [17/Sep/2025 15:06:59] \"GET /api/studies/1?after=4817 HTTP/1.1\" 200 28986\n",
      "127.0.0.1 - - [17/Sep/2025 15:07:15] \"GET /api/studies/1?after=4817 HTTP/1.1\" 200 28986\n",
      "127.0.0.1 - - [17/Sep/2025 15:07:30] \"GET /api/studies/1?after=4817 HTTP/1.1\" 200 28986\n"
     ]
    }
   ],
   "source": [
    "from optuna_dashboard import run_server\n",
    "import optuna\n",
    "\n",
    "name = \"CalibrationRawResults\\\\d2Cal_17Sep25_ZB_EC_2\"\n",
    "\n",
    "\n",
    "run_server(f'sqlite:///{name}.db', host=\"127.0.0.1\", port = 8083)"
   ]
  }
 ],
 "metadata": {
  "kernelspec": {
   "display_name": "FreshHPVSim2Env",
   "language": "python",
   "name": "python3"
  },
  "language_info": {
   "codemirror_mode": {
    "name": "ipython",
    "version": 3
   },
   "file_extension": ".py",
   "mimetype": "text/x-python",
   "name": "python",
   "nbconvert_exporter": "python",
   "pygments_lexer": "ipython3",
   "version": "3.13.5"
  }
 },
 "nbformat": 4,
 "nbformat_minor": 2
}
