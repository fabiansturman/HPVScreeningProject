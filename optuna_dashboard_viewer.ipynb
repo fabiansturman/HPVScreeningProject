{
 "cells": [
  {
   "cell_type": "code",
   "execution_count": 1,
   "metadata": {},
   "outputs": [
    {
     "name": "stderr",
     "output_type": "stream",
     "text": [
      "c:\\Users\\fabia\\anaconda3\\envs\\FreshHPVSim2Env\\Lib\\site-packages\\tqdm\\auto.py:21: TqdmWarning: IProgress not found. Please update jupyter and ipywidgets. See https://ipywidgets.readthedocs.io/en/stable/user_install.html\n",
      "  from .autonotebook import tqdm as notebook_tqdm\n",
      "Bottle v0.13.4 server starting up (using WSGIRefServer())...\n",
      "Listening on http://127.0.0.1:8083/\n",
      "Hit Ctrl-C to quit.\n",
      "\n",
      "127.0.0.1 - - [16/Sep/2025 13:54:57] \"GET / HTTP/1.1\" 302 0\n",
      "127.0.0.1 - - [16/Sep/2025 13:54:58] \"GET /api/studies HTTP/1.1\" 200 172\n",
      "c:\\Users\\fabia\\anaconda3\\envs\\FreshHPVSim2Env\\Lib\\site-packages\\optuna_dashboard\\_importance.py:71: ExperimentalWarning: PedAnovaImportanceEvaluator is experimental (supported from v3.6.0). The interface can change in the future.\n",
      "  study, target=target, evaluator=PedAnovaImportanceEvaluator()\n",
      "c:\\Users\\fabia\\anaconda3\\envs\\FreshHPVSim2Env\\Lib\\site-packages\\optuna\\importance\\_ped_anova\\evaluator.py:148: UserWarning: PedAnovaImportanceEvaluator computes the importances of params to achieve low `target` values. If this is not what you want, please modify target, e.g., by multiplying the output by -1.\n",
      "  warnings.warn(\n",
      "127.0.0.1 - - [16/Sep/2025 13:55:05] \"GET /api/studies/1/param_importances?evaluator=ped_anova HTTP/1.1\" 200 1018\n",
      "127.0.0.1 - - [16/Sep/2025 13:55:07] \"GET /api/studies/1?after=0 HTTP/1.1\" 200 14838085\n",
      "127.0.0.1 - - [16/Sep/2025 13:55:07] \"GET /api/meta HTTP/1.1\" 200 64\n",
      "127.0.0.1 - - [16/Sep/2025 13:55:13] \"GET /api/studies/1/param_importances?evaluator=ped_anova HTTP/1.1\" 200 1018\n",
      "127.0.0.1 - - [16/Sep/2025 13:55:20] \"GET /api/studies/1?after=5000 HTTP/1.1\" 200 5924\n",
      "127.0.0.1 - - [16/Sep/2025 13:55:37] \"GET /api/studies/1?after=5000 HTTP/1.1\" 200 5924\n",
      "127.0.0.1 - - [16/Sep/2025 13:55:56] \"GET /api/studies/1?after=5000 HTTP/1.1\" 200 5924\n",
      "127.0.0.1 - - [16/Sep/2025 13:56:14] \"GET /api/studies/1?after=5000 HTTP/1.1\" 200 5924\n",
      "127.0.0.1 - - [16/Sep/2025 13:56:30] \"GET /api/studies/1?after=5000 HTTP/1.1\" 200 5924\n",
      "127.0.0.1 - - [16/Sep/2025 13:56:53] \"GET /api/studies/1?after=5000 HTTP/1.1\" 200 5924\n",
      "127.0.0.1 - - [16/Sep/2025 13:57:11] \"GET /api/studies/1?after=5000 HTTP/1.1\" 200 5924\n"
     ]
    }
   ],
   "source": [
    "from optuna_dashboard import run_server\n",
    "import optuna\n",
    "\n",
    "name = \"CalibrationRawResults\\\\d2Cal_15Sep25_ZB_EB_6\"\n",
    "\n",
    "\n",
    "run_server(f'sqlite:///{name}.db', host=\"127.0.0.1\", port = 8083)"
   ]
  }
 ],
 "metadata": {
  "kernelspec": {
   "display_name": "FreshHPVSim2Env",
   "language": "python",
   "name": "python3"
  },
  "language_info": {
   "codemirror_mode": {
    "name": "ipython",
    "version": 3
   },
   "file_extension": ".py",
   "mimetype": "text/x-python",
   "name": "python",
   "nbconvert_exporter": "python",
   "pygments_lexer": "ipython3",
   "version": "3.13.5"
  }
 },
 "nbformat": 4,
 "nbformat_minor": 2
}
