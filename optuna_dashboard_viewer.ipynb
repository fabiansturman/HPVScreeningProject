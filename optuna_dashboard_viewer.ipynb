{
 "cells": [
  {
   "cell_type": "code",
   "execution_count": 2,
   "metadata": {},
   "outputs": [
    {
     "name": "stderr",
     "output_type": "stream",
     "text": [
      "Bottle v0.13.4 server starting up (using WSGIRefServer())...\n",
      "Listening on http://127.0.0.1:8083/\n",
      "Hit Ctrl-C to quit.\n",
      "\n",
      "127.0.0.1 - - [13/Sep/2025 01:55:15] \"GET / HTTP/1.1\" 302 0\n",
      "127.0.0.1 - - [13/Sep/2025 01:55:17] \"GET /api/studies HTTP/1.1\" 200 171\n",
      "127.0.0.1 - - [13/Sep/2025 01:55:20] \"GET /api/studies/1/param_importances?evaluator=ped_anova HTTP/1.1\" 200 722\n",
      "127.0.0.1 - - [13/Sep/2025 01:55:20] \"GET /api/studies/1?after=0 HTTP/1.1\" 200 7441415\n",
      "127.0.0.1 - - [13/Sep/2025 01:55:20] \"GET /api/meta HTTP/1.1\" 200 64\n",
      "127.0.0.1 - - [13/Sep/2025 01:55:21] \"GET /api/studies/1/param_importances?evaluator=ped_anova HTTP/1.1\" 200 722\n",
      "127.0.0.1 - - [13/Sep/2025 01:55:35] \"GET /api/studies/1?after=582 HTTP/1.1\" 200 6173242\n",
      "127.0.0.1 - - [13/Sep/2025 01:55:59] \"GET /api/studies/1?after=582 HTTP/1.1\" 200 6173242\n"
     ]
    }
   ],
   "source": [
    "from optuna_dashboard import run_server\n",
    "import optuna\n",
    "\n",
    "name = \"CalibrationRawResults\\\\d2Cal_12Sep25_XPS_D6\"\n",
    "\n",
    "\n",
    "run_server(f'sqlite:///{name}.db', host=\"127.0.0.1\", port = 8083)"
   ]
  }
 ],
 "metadata": {
  "kernelspec": {
   "display_name": "Python 3",
   "language": "python",
   "name": "python3"
  },
  "language_info": {
   "codemirror_mode": {
    "name": "ipython",
    "version": 3
   },
   "file_extension": ".py",
   "mimetype": "text/x-python",
   "name": "python",
   "nbconvert_exporter": "python",
   "pygments_lexer": "ipython3",
   "version": "3.12.1"
  }
 },
 "nbformat": 4,
 "nbformat_minor": 2
}
