{
 "cells": [
  {
   "cell_type": "code",
   "execution_count": 2,
   "metadata": {},
   "outputs": [
    {
     "name": "stderr",
     "output_type": "stream",
     "text": [
      "Bottle v0.13.4 server starting up (using WSGIRefServer())...\n",
      "Listening on http://127.0.0.1:8083/\n",
      "Hit Ctrl-C to quit.\n",
      "\n",
      "127.0.0.1 - - [15/Sep/2025 23:08:53] \"GET / HTTP/1.1\" 302 0\n",
      "127.0.0.1 - - [15/Sep/2025 23:08:54] \"GET /dashboard HTTP/1.1\" 304 0\n",
      "127.0.0.1 - - [15/Sep/2025 23:08:54] \"GET /static/bundle.js HTTP/1.1\" 304 0\n",
      "127.0.0.1 - - [15/Sep/2025 23:08:55] \"GET /api/studies HTTP/1.1\" 200 172\n",
      "127.0.0.1 - - [15/Sep/2025 23:08:55] \"GET /favicon.ico HTTP/1.1\" 304 0\n",
      "127.0.0.1 - - [15/Sep/2025 23:09:04] \"GET /api/studies/1/param_importances?evaluator=ped_anova HTTP/1.1\" 200 920\n",
      "127.0.0.1 - - [15/Sep/2025 23:09:06] \"GET /api/studies/1?after=0 HTTP/1.1\" 200 13535180\n",
      "127.0.0.1 - - [15/Sep/2025 23:09:06] \"GET /api/meta HTTP/1.1\" 200 64\n",
      "127.0.0.1 - - [15/Sep/2025 23:09:06] \"GET /api/studies/1/param_importances?evaluator=ped_anova HTTP/1.1\" 200 920\n",
      "127.0.0.1 - - [15/Sep/2025 23:09:22] \"GET /api/studies/1?after=5000 HTTP/1.1\" 200 5419\n",
      "127.0.0.1 - - [15/Sep/2025 23:09:40] \"GET /api/studies/1?after=5000 HTTP/1.1\" 200 5419\n",
      "127.0.0.1 - - [15/Sep/2025 23:09:58] \"GET /api/studies/1?after=5000 HTTP/1.1\" 200 5419\n"
     ]
    }
   ],
   "source": [
    "from optuna_dashboard import run_server\n",
    "import optuna\n",
    "\n",
    "name = \"CalibrationRawResults\\\\d2Cal_14Sep25_ZB_EB_4\"\n",
    "\n",
    "\n",
    "run_server(f'sqlite:///{name}.db', host=\"127.0.0.1\", port = 8083)"
   ]
  }
 ],
 "metadata": {
  "kernelspec": {
   "display_name": "FreshHPVSim2Env",
   "language": "python",
   "name": "python3"
  },
  "language_info": {
   "codemirror_mode": {
    "name": "ipython",
    "version": 3
   },
   "file_extension": ".py",
   "mimetype": "text/x-python",
   "name": "python",
   "nbconvert_exporter": "python",
   "pygments_lexer": "ipython3",
   "version": "3.13.5"
  }
 },
 "nbformat": 4,
 "nbformat_minor": 2
}
